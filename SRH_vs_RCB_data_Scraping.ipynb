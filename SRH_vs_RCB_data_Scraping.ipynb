{
 "cells": [
  {
   "cell_type": "code",
   "execution_count": 1,
   "metadata": {},
   "outputs": [],
   "source": [
    "from bs4 import BeautifulSoup\n",
    "import pandas as pd\n",
    "import numpy as np"
   ]
  },
  {
   "cell_type": "code",
   "execution_count": 2,
   "metadata": {},
   "outputs": [],
   "source": [
    "# RCB static webpage path\n",
    "RCB_file_path = r'D:\\Projects\\Data Analyics Project\\IPL SRH vs RCB matches analysis\\Dataset\\RCB.html'\n",
    "\n",
    "with open(RCB_file_path, 'r', encoding='utf8') as file:\n",
    "    RCB_html_content = file.read()\n",
    "\n",
    "# SRH static webpage path\n",
    "SRH_file_path = r'D:\\Projects\\Data Analyics Project\\IPL SRH vs RCB matches analysis\\Dataset\\SRH.html'\n",
    "\n",
    "with open(SRH_file_path, 'r', encoding='utf8') as file:\n",
    "    SRH_html_content = file.read()"
   ]
  },
  {
   "cell_type": "code",
   "execution_count": 3,
   "metadata": {},
   "outputs": [],
   "source": [
    "RCB_soup = BeautifulSoup(RCB_html_content, 'html.parser')\n",
    "\n",
    "SRH_soup = BeautifulSoup(SRH_html_content, 'html.parser')\n"
   ]
  },
  {
   "cell_type": "markdown",
   "metadata": {},
   "source": [
    "### Retriving Overs"
   ]
  },
  {
   "cell_type": "code",
   "execution_count": 4,
   "metadata": {},
   "outputs": [],
   "source": [
    "# Define the class names\n",
    "class_name_over = 'ds-text-tight-s ds-font-regular ds-mb-1 lg:ds-mb-0 lg:ds-mr-3 ds-block ds-text-center ds-text-typo-mid1'\n"
   ]
  },
  {
   "cell_type": "code",
   "execution_count": 5,
   "metadata": {},
   "outputs": [],
   "source": [
    "# Function to retrive the overs\n",
    "def oversList(class_name, soup):\n",
    "    overs = soup.find_all('span', class_=class_name)\n",
    "    overs_list = []\n",
    "    for element in overs:\n",
    "        overs_list.append(element.text)\n",
    "\n",
    "    return overs_list\n"
   ]
  },
  {
   "cell_type": "code",
   "execution_count": 6,
   "metadata": {},
   "outputs": [
    {
     "name": "stdout",
     "output_type": "stream",
     "text": [
      "RCB_overs_list:  [19, 19, 19, 19, 19, 19, 18, 18, 18, 18, 18, 18, 17, 17, 17, 17, 17, 17, 17, 17, 17, 17, 16, 16, 16, 16, 16, 16, 16, 15, 15, 15, 15, 15, 15, 15, 14, 14, 14, 14, 14, 14, 13, 13, 13, 13, 13, 13, 13, 12, 12, 12, 12, 12, 12, 12, 11, 11, 11, 11, 11, 11, 11, 11, 11, 10, 10, 10, 10, 10, 10, 10, 9, 9, 9, 9, 9, 9, 8, 8, 8, 8, 8, 8, 8, 7, 7, 7, 7, 7, 7, 6, 6, 6, 6, 6, 6, 5, 5, 5, 5, 5, 5, 4, 4, 4, 4, 4, 4, 3, 3, 3, 3, 3, 3, 2, 2, 2, 2, 2, 2, 1, 1, 1, 1, 1, 1, 0, 0, 0, 0, 0, 0]\n",
      "Length of RCB_overs_list:  133\n",
      "\n",
      "RCB_overs_list:  ['19.6', '19.5', '19.4', '19.3', '19.2', '19.1', '18.6', '18.5', '18.4', '18.3', '18.2', '18.1', '17.6', '17.6', '17.5', '17.5', '17.5', '17.4', '17.3', '17.2', '17.1', '17.1', '16.6', '16.6', '16.5', '16.4', '16.3', '16.2', '16.1', '15.6', '15.5', '15.4', '15.4', '15.3', '15.2', '15.1', '14.6', '14.5', '14.4', '14.3', '14.2', '14.1', '13.6', '13.6', '13.5', '13.4', '13.3', '13.2', '13.1', '12.6', '12.5', '12.5', '12.4', '12.3', '12.2', '12.1', '11.6', '11.5', '11.4', '11.3', '11.3', '11.3', '11.2', '11.2', '11.1', '10.6', '10.5', '10.4', '10.4', '10.3', '10.2', '10.1', '9.6', '9.5', '9.4', '9.3', '9.2', '9.1', '8.6', '8.5', '8.5', '8.4', '8.3', '8.2', '8.1', '7.6', '7.5', '7.4', '7.3', '7.2', '7.1', '6.6', '6.5', '6.4', '6.3', '6.2', '6.1', '5.6', '5.5', '5.4', '5.3', '5.2', '5.1', '4.6', '4.5', '4.4', '4.3', '4.2', '4.1', '3.6', '3.5', '3.4', '3.3', '3.2', '3.1', '2.6', '2.5', '2.4', '2.3', '2.2', '2.1', '1.6', '1.5', '1.4', '1.3', '1.2', '1.1', '0.6', '0.5', '0.4', '0.3', '0.2', '0.1']\n",
      "SRH_overs_list ['19.6', '19.6', '19.5', '19.4', '19.3', '19.2', '19.1', '19.1', '18.6', '18.5', '18.4', '18.3', '18.2', '18.1', '17.6', '17.5', '17.4', '17.3', '17.2', '17.2', '17.1', '16.6', '16.5', '16.4', '16.3', '16.2', '16.1', '15.6', '15.5', '15.4', '15.3', '15.2', '15.1', '14.6', '14.5', '14.4', '14.3', '14.2', '14.1', '13.6', '13.5', '13.4', '13.4', '13.4', '13.3', '13.3', '13.2', '13.1', '12.6', '12.5', '12.4', '12.3', '12.2', '12.1', '11.6', '11.5', '11.4', '11.3', '11.2', '11.1', '10.6', '10.6', '10.5', '10.5', '10.4', '10.3', '10.2', '10.1', '9.6', '9.5', '9.4', '9.3', '9.2', '9.1', '8.6', '8.5', '8.4', '8.4', '8.3', '8.3', '8.2', '8.1', '7.6', '7.5', '7.4', '7.3', '7.2', '7.1', '6.6', '6.5', '6.4', '6.3', '6.2', '6.1', '6.1', '5.6', '5.5', '5.4', '5.3', '5.2', '5.1', '4.6', '4.5', '4.4', '4.3', '4.2', '4.1', '3.6', '3.5', '3.4', '3.3', '3.2', '3.1', '3.1', '2.6', '2.5', '2.4', '2.3', '2.2', '2.1', '1.6', '1.5', '1.4', '1.3', '1.2', '1.1', '0.6', '0.5', '0.4', '0.3', '0.2', '0.1']\n",
      "\n",
      "SRH_overs_list:  [19, 19, 19, 19, 19, 19, 19, 19, 18, 18, 18, 18, 18, 18, 17, 17, 17, 17, 17, 17, 17, 16, 16, 16, 16, 16, 16, 15, 15, 15, 15, 15, 15, 14, 14, 14, 14, 14, 14, 13, 13, 13, 13, 13, 13, 13, 13, 13, 12, 12, 12, 12, 12, 12, 11, 11, 11, 11, 11, 11, 10, 10, 10, 10, 10, 10, 10, 10, 9, 9, 9, 9, 9, 9, 8, 8, 8, 8, 8, 8, 8, 8, 7, 7, 7, 7, 7, 7, 6, 6, 6, 6, 6, 6, 6, 5, 5, 5, 5, 5, 5, 4, 4, 4, 4, 4, 4, 3, 3, 3, 3, 3, 3, 3, 2, 2, 2, 2, 2, 2, 1, 1, 1, 1, 1, 1, 0, 0, 0, 0, 0, 0]\n",
      "Length of SRH_overs_list:  132\n"
     ]
    }
   ],
   "source": [
    "# Calling the above function to retrive the overs\n",
    "# For RCB\n",
    "RCB_overs_list = oversList(class_name_over, RCB_soup)\n",
    "converted_RCB_overs_list = [int(over.split('.')[0]) for over in RCB_overs_list]\n",
    "\n",
    "print(\"RCB_overs_list: \", converted_RCB_overs_list)\n",
    "print(\"Length of RCB_overs_list: \", len(converted_RCB_overs_list))\n",
    "\n",
    "print()\n",
    "\n",
    "# For SRH\n",
    "SRH_overs_list = oversList(class_name_over, SRH_soup)\n",
    "converted_SRH_overs_list = [int(over.split('.')[0]) for over in SRH_overs_list]\n",
    "\n",
    "print(\"RCB_overs_list: \", RCB_overs_list)\n",
    "print(\"SRH_overs_list\", SRH_overs_list)\n",
    "\n",
    "print()\n",
    "\n",
    "print(\"SRH_overs_list: \", converted_SRH_overs_list)\n",
    "print(\"Length of SRH_overs_list: \", len(converted_SRH_overs_list))\n"
   ]
  },
  {
   "cell_type": "markdown",
   "metadata": {},
   "source": [
    "### Retiving the output for each ball"
   ]
  },
  {
   "cell_type": "code",
   "execution_count": 7,
   "metadata": {},
   "outputs": [],
   "source": [
    "# Define the class names\n",
    "class_name_result_1 = 'ds-text-tight-m ds-font-bold ds-flex ds-items-center ds-justify-center ds-text-center ds-w-10 ds-h-10 ds-text-typo'\n",
    "class_name_result_4_6_W = 'ds-text-tight-m ds-font-bold ds-flex ds-items-center ds-justify-center ds-text-center ds-w-10 ds-h-10 ds-text-raw-white'\n"
   ]
  },
  {
   "cell_type": "code",
   "execution_count": 8,
   "metadata": {},
   "outputs": [],
   "source": [
    "# Function to retrive the result of each ball\n",
    "def resultOfEachBall(class_name1, class_name2, soup):\n",
    "    # Find all elements with the specified classes in one go\n",
    "    combined_elements = soup.find_all(class_=[class_name1, class_name2])\n",
    "    \n",
    "    # Extract the data from the combined elements\n",
    "    combined_data = [element.get_text(strip=True) for element in combined_elements]\n",
    "\n",
    "    result_list = []\n",
    "    runs = []\n",
    "    for element in combined_data:\n",
    "        result_list.append(element)\n",
    "        if(element == '•' or element == 'W' or element == '1w' or element == '1lb' or element == '1b' or element == '2w' or element == '3w' or element == '1nb' or element == '2nb' or element == '3nb'):\n",
    "            runs.append(0)\n",
    "        else:\n",
    "            runs.append(element)\n",
    "\n",
    "    return result_list,runs\n"
   ]
  },
  {
   "cell_type": "code",
   "execution_count": 9,
   "metadata": {},
   "outputs": [
    {
     "name": "stdout",
     "output_type": "stream",
     "text": [
      "RCB_result_list:  ['4', '4', '1', '1', '4', '4', '•', 'W', '2', '4', '2', '6', '1', '1w', '6', '1w', '1w', '1', '1', '1', '•', '1w', '6', '1w', '1', '1', '•', '2', '6', '1', '1b', '1', '1w', '•', '2', '6', '4', '•', '1', '1', '•', 'W', '4', '1w', '6', '1', '1', '4', '4', '1', '4', '1w', '6', '1', '6', '6', '1', '1', '•', '1', '1w', '1w', '1', '1w', '1', '1', '1', '1', '1w', '•', '1', '•', 'W', '1', '•', 'W', '6', '4', 'W', '2', '1w', '6', '•', '1', '1', 'W', '4', '1', '4', '1', '6', '1', '1', '1', '1', 'W', '1', '4', '•', '1', '•', '4', '•', '6', '2', '•', '4', '1', '1', '4', '4', '•', '1', '4', '4', '6', '1', '1', '6', '•', '4', '•', '6', '4', '•', '•', '1', '4', '•', '1', '•', '4', '1']\n",
      "RCB_runs:  ['4', '4', '1', '1', '4', '4', 0, 0, '2', '4', '2', '6', '1', 0, '6', 0, 0, '1', '1', '1', 0, 0, '6', 0, '1', '1', 0, '2', '6', '1', 0, '1', 0, 0, '2', '6', '4', 0, '1', '1', 0, 0, '4', 0, '6', '1', '1', '4', '4', '1', '4', 0, '6', '1', '6', '6', '1', '1', 0, '1', 0, 0, '1', 0, '1', '1', '1', '1', 0, 0, '1', 0, 0, '1', 0, 0, '6', '4', 0, '2', 0, '6', 0, '1', '1', 0, '4', '1', '4', '1', '6', '1', '1', '1', '1', 0, '1', '4', 0, '1', 0, '4', 0, '6', '2', 0, '4', '1', '1', '4', '4', 0, '1', '4', '4', '6', '1', '1', '6', 0, '4', 0, '6', '4', 0, 0, '1', '4', 0, '1', 0, '4', '1']\n",
      "SRH_result_list:  ['2', '1w', '6', '•', '1', '6', '4', '1w', '4', '6', '6', '4', '4', '1', '4', '1', '1', '1', '•', '1nb', '2', 'W', '1', '6', '1', '6', '•', '1', '1', '1', '2', '6', '1', '6', '1', '4', '1', '4', '•', '1', '•', '6', '1w', '1w', '6', '1w', '1', '1', '1lb', '4', '1', 'W', '1lb', '6', '1', '1', '4', '2', '4', '4', '1', '1w', '•', '1w', '1', '2', '6', '2', '1', '•', '1', '•', '6', '1', '4', '•', '4', '1w', '1', '1w', '•', 'W', '1', '1', '1', '1', '1', '6', '1', '1', '6', '6', '4', '1', '2w', '1', '4', '6', '2', '6', '1', '4', '1', '1', '6', '6', '•', '1', '•', '•', '1', '•', '4', '1w', '1', '1', '•', '1', '•', '1', '6', '1', '2', '6', '4', '1', '•', '1', '4', '2', '•', '•']\n",
      "SRH_runs:  ['2', 0, '6', 0, '1', '6', '4', 0, '4', '6', '6', '4', '4', '1', '4', '1', '1', '1', 0, 0, '2', 0, '1', '6', '1', '6', 0, '1', '1', '1', '2', '6', '1', '6', '1', '4', '1', '4', 0, '1', 0, '6', 0, 0, '6', 0, '1', '1', 0, '4', '1', 0, 0, '6', '1', '1', '4', '2', '4', '4', '1', 0, 0, 0, '1', '2', '6', '2', '1', 0, '1', 0, '6', '1', '4', 0, '4', 0, '1', 0, 0, 0, '1', '1', '1', '1', '1', '6', '1', '1', '6', '6', '4', '1', 0, '1', '4', '6', '2', '6', '1', '4', '1', '1', '6', '6', 0, '1', 0, 0, '1', 0, '4', 0, '1', '1', 0, '1', 0, '1', '6', '1', '2', '6', '4', '1', 0, '1', '4', '2', 0, 0]\n"
     ]
    }
   ],
   "source": [
    "# Calling the above function to retrive result of each ball\n",
    "# For RCB\n",
    "\n",
    "RCB_result_list = []\n",
    "RCB_runs = []\n",
    "\n",
    "RCB_result_list, RCB_runs = resultOfEachBall(class_name_result_1, class_name_result_4_6_W, RCB_soup)\n",
    "print(\"RCB_result_list: \", RCB_result_list)\n",
    "print(\"RCB_runs: \", RCB_runs)\n",
    "\n",
    "# For SRH\n",
    "SRH_result_list = []\n",
    "SRH_runs = []\n",
    "\n",
    "SRH_result_list, SRH_runs = resultOfEachBall(class_name_result_1, class_name_result_4_6_W, SRH_soup)\n",
    "print(\"SRH_result_list: \", SRH_result_list)\n",
    "print(\"SRH_runs: \", SRH_runs)\n"
   ]
  },
  {
   "cell_type": "markdown",
   "metadata": {},
   "source": [
    "### Retriving the extra runs data"
   ]
  },
  {
   "cell_type": "code",
   "execution_count": 10,
   "metadata": {},
   "outputs": [],
   "source": [
    "# Function to retrive the extra runs data\n",
    "def extraRuns(result_list):\n",
    "    \n",
    "    extra_runs = []\n",
    "    for element in result_list:\n",
    "        if(element == '1w' or element == '1lb' or element == '1b' or element == '1nb'):\n",
    "            extra_runs.append(1)\n",
    "        elif(element == '2w' or element=='2nb'):\n",
    "            extra_runs.append(2)\n",
    "        elif(element == '3w' or element == '3nb'):\n",
    "            extra_runs.append(3)\n",
    "        else:\n",
    "            extra_runs.append(\"\")\n",
    "\n",
    "    return extra_runs"
   ]
  },
  {
   "cell_type": "code",
   "execution_count": 11,
   "metadata": {},
   "outputs": [
    {
     "name": "stdout",
     "output_type": "stream",
     "text": [
      "['', '', '', '', '', '', '', '', '', '', '', '', '', 1, '', 1, 1, '', '', '', '', 1, '', 1, '', '', '', '', '', '', 1, '', 1, '', '', '', '', '', '', '', '', '', '', 1, '', '', '', '', '', '', '', 1, '', '', '', '', '', '', '', '', 1, 1, '', 1, '', '', '', '', 1, '', '', '', '', '', '', '', '', '', '', '', 1, '', '', '', '', '', '', '', '', '', '', '', '', '', '', '', '', '', '', '', '', '', '', '', '', '', '', '', '', '', '', '', '', '', '', '', '', '', '', '', '', '', '', '', '', '', '', '', '', '', '', '', '']\n",
      "['', 1, '', '', '', '', '', 1, '', '', '', '', '', '', '', '', '', '', '', 1, '', '', '', '', '', '', '', '', '', '', '', '', '', '', '', '', '', '', '', '', '', '', 1, 1, '', 1, '', '', 1, '', '', '', 1, '', '', '', '', '', '', '', '', 1, '', 1, '', '', '', '', '', '', '', '', '', '', '', '', '', 1, '', 1, '', '', '', '', '', '', '', '', '', '', '', '', '', '', 2, '', '', '', '', '', '', '', '', '', '', '', '', '', '', '', '', '', '', 1, '', '', '', '', '', '', '', '', '', '', '', '', '', '', '', '', '', '']\n"
     ]
    }
   ],
   "source": [
    "# For RCB\n",
    "RCB_extra_runs = extraRuns(RCB_result_list)\n",
    "\n",
    "\n",
    "# for SRH\n",
    "SRH_extra_runs = extraRuns(SRH_result_list)\n",
    "\n",
    "print(RCB_extra_runs)\n",
    "print(SRH_extra_runs)\n"
   ]
  },
  {
   "cell_type": "markdown",
   "metadata": {},
   "source": [
    "### Retriving the Batters and their Bowlers"
   ]
  },
  {
   "cell_type": "code",
   "execution_count": 12,
   "metadata": {},
   "outputs": [],
   "source": [
    "# Define the class names\n",
    "class_name_batter_bowler = 'ds-leading-none ds-mb-0.5'\n"
   ]
  },
  {
   "cell_type": "code",
   "execution_count": 13,
   "metadata": {},
   "outputs": [],
   "source": [
    "# Function to retrive the current batter and his bowler\n",
    "\n",
    "def batterAndBowlers(class_name, soup):\n",
    "    batter_and_bowler = soup.findAll('div', class_= class_name)\n",
    "\n",
    "    bowlers = []\n",
    "    batters = []\n",
    "\n",
    "    for i in batter_and_bowler:\n",
    "        list_of_strings = []\n",
    "        list_of_strings =  i.text.split()\n",
    "\n",
    "        # For Bowler\n",
    "        string = \"\"\n",
    "        for i in list_of_strings:\n",
    "            if(i!=\"to\"):\n",
    "                string = string + i\n",
    "            else:\n",
    "                break\n",
    "        bowlers.append(string)\n",
    "\n",
    "        # For Batter\n",
    "        index = 0\n",
    "        for j in list_of_strings:\n",
    "            if(j!='to'):\n",
    "                index +=1\n",
    "            else:\n",
    "                break\n",
    "\n",
    "        string = \"\"\n",
    "        for j in range(index+1, len(list_of_strings)):\n",
    "            string += list_of_strings[j]\n",
    "            \n",
    "        # Removing the last character \",\" in the batter name\n",
    "        battter_name = \"\"\n",
    "        for j in string:\n",
    "            if(j==','):\n",
    "                break\n",
    "            else:\n",
    "                battter_name += j\n",
    "        # print(battter_name)\n",
    "        batters.append(battter_name)\n",
    "\n",
    "    return batters, bowlers\n",
    "\n"
   ]
  },
  {
   "cell_type": "code",
   "execution_count": 14,
   "metadata": {},
   "outputs": [
    {
     "name": "stdout",
     "output_type": "stream",
     "text": [
      "Length of RCB_bowlers column:  133\n",
      "Length of RCB_batters column:  133\n",
      "Length of SRH_bowlers column:  132\n",
      "Length of SRH_batters column:  132\n",
      "\n",
      "['Kohli', 'duPlessis', 'duPlessis', 'duPlessis', 'Kohli', 'Kohli', 'duPlessis', 'Kohli', 'Kohli', 'Kohli', 'Kohli', 'Kohli', 'duPlessis', 'duPlessis', 'duPlessis', 'duPlessis', 'Kohli', 'duPlessis', 'Kohli', 'Kohli', 'Kohli', 'duPlessis', 'duPlessis', 'duPlessis', 'Kohli', 'duPlessis', 'Kohli', 'Kohli', 'Kohli', 'Kohli', 'duPlessis', 'duPlessis', 'duPlessis', 'duPlessis', 'Kohli', 'Kohli', 'duPlessis', 'Kohli', 'Jacks', 'duPlessis', 'Jacks', 'duPlessis', 'duPlessis', 'duPlessis', 'Jacks', 'Jacks', 'duPlessis', 'duPlessis', 'Patidar', 'duPlessis', 'Patidar', 'Patidar', 'Patidar', 'Patidar', 'Patidar', 'duPlessis', 'duPlessis', 'duPlessis', 'Karthik', 'Karthik', 'Chauhan', 'Karthik', 'Karthik', 'Lomror', 'Lomror', 'Lomror', 'Karthik', 'Lomror', 'Lomror', 'Karthik', 'Karthik', 'Lomror', 'Lomror', 'Lomror', 'Karthik', 'Karthik', 'Lomror', 'Lomror', 'Lomror', 'Lomror', 'Karthik', 'Karthik', 'Karthik', 'Karthik', 'Karthik', 'Karthik', 'Karthik', 'Lomror', 'Karthik', 'Karthik', 'Karthik', 'Lomror', 'Rawat', 'Rawat', 'Karthik', 'Rawat', 'Rawat', 'Karthik', 'Karthik', 'Karthik', 'Karthik', 'Karthik', 'Rawat', 'Karthik', 'Karthik', 'Karthik', 'Karthik', 'Karthik', 'Rawat', 'Karthik', 'Karthik', 'Rawat', 'Rawat', 'Rawat', 'Karthik', 'Rawat', 'Karthik', 'Karthik', 'Karthik', 'Karthik', 'Karthik', 'Karthik', 'Karthik', 'Karthik', 'Karthik', 'Karthik', 'Vyshak', 'Rawat', 'Rawat', 'Rawat', 'Vyshak', 'Rawat', 'Rawat']\n",
      "['Abhishek', 'Abhishek', 'Abhishek', 'Abhishek', 'Abhishek', 'Head', 'Abhishek', 'Head', 'Head', 'Head', 'Head', 'Abhishek', 'Head', 'Abhishek', 'Abhishek', 'Head', 'Head', 'Abhishek', 'Abhishek', 'Abhishek', 'Abhishek', 'Abhishek', 'Head', 'Head', 'Head', 'Head', 'Head', 'Head', 'Head', 'Abhishek', 'Head', 'Abhishek', 'Head', 'Head', 'Head', 'Head', 'Head', 'Head', 'Abhishek', 'Head', 'Head', 'Head', 'Head', 'Abhishek', 'Abhishek', 'Abhishek', 'Head', 'Abhishek', 'Head', 'Abhishek', 'Abhishek', 'Klaasen', 'Klaasen', 'Klaasen', 'Head', 'Head', 'Head', 'Head', 'Klaasen', 'Head', 'Head', 'Head', 'Klaasen', 'Klaasen', 'Klaasen', 'Klaasen', 'Klaasen', 'Klaasen', 'Head', 'Head', 'Head', 'Head', 'Head', 'Head', 'Head', 'Head', 'Head', 'Klaasen', 'Klaasen', 'Klaasen', 'Head', 'Markram', 'Klaasen', 'Klaasen', 'Klaasen', 'Markram', 'Klaasen', 'Klaasen', 'Klaasen', 'Klaasen', 'Klaasen', 'Klaasen', 'Klaasen', 'Klaasen', 'Klaasen', 'Klaasen', 'Markram', 'Markram', 'Klaasen', 'Markram', 'Klaasen', 'Klaasen', 'Klaasen', 'Markram', 'Klaasen', 'Klaasen', 'Klaasen', 'Klaasen', 'Markram', 'Markram', 'Klaasen', 'Markram', 'Markram', 'Markram', 'Markram', 'AbdulSamad', 'Markram', 'AbdulSamad', 'Markram', 'AbdulSamad', 'AbdulSamad', 'AbdulSamad', 'AbdulSamad', 'AbdulSamad', 'Markram', 'Markram', 'Markram', 'Markram', 'AbdulSamad', 'AbdulSamad', 'AbdulSamad', 'AbdulSamad']\n"
     ]
    }
   ],
   "source": [
    "# Calling the above function to retrive the current batter and his bowler\n",
    "# For RCB\n",
    "\n",
    "RCB_batters = []\n",
    "RCB_bowlers = []\n",
    "\n",
    "RCB_batters, RCB_bowlers = batterAndBowlers(class_name_batter_bowler, RCB_soup)\n",
    "print(\"Length of RCB_bowlers column: \", len(RCB_bowlers))\n",
    "print(\"Length of RCB_batters column: \", len(RCB_batters))\n",
    "\n",
    "\n",
    "# For SRH\n",
    "SRH_batters = []\n",
    "SRH_bowlers = []\n",
    "\n",
    "SRH_batters, SRH_bowlers = batterAndBowlers(class_name_batter_bowler, SRH_soup)\n",
    "print(\"Length of SRH_bowlers column: \", len(SRH_bowlers))\n",
    "print(\"Length of SRH_batters column: \", len(SRH_batters))\n",
    "\n",
    "print()\n",
    "print(RCB_batters[::-1])\n",
    "print(SRH_batters[::-1])\n"
   ]
  },
  {
   "cell_type": "markdown",
   "metadata": {},
   "source": [
    "### Retriving the what kind of wicket"
   ]
  },
  {
   "cell_type": "code",
   "execution_count": 15,
   "metadata": {},
   "outputs": [],
   "source": [
    "# Define the class names\n",
    "class_name_wicket_kind = 'ds-rounded ds-bg-fill-content-alternate ds-ml-4 lg:ds-ml-3 ds-mt-1 ds-inline-block ds-p-3'\n",
    "\n"
   ]
  },
  {
   "cell_type": "code",
   "execution_count": 16,
   "metadata": {},
   "outputs": [],
   "source": [
    "# Function to retrive the kind of wicket\n",
    "\n",
    "def wicketKind(class_name, soup):\n",
    "    wicket_des = soup.findAll('div', class_ = class_name)\n",
    "\n",
    "    batter_out = []\n",
    "\n",
    "    dummy = []\n",
    "\n",
    "\n",
    "    for i in wicket_des:\n",
    "        # list_of_strings = []\n",
    "        list_of_strings = i.text\n",
    "        list_of_strings = list_of_strings.split()\n",
    "        # print(list_of_strings)\n",
    "\n",
    "        batter_out.append(list_of_strings[1])\n",
    "        \n",
    "        if(\"c\" in list_of_strings):\n",
    "            dummy.append(\"Catch\")\n",
    "        elif(\"run\" in list_of_strings):\n",
    "            dummy.append(\"Run Out\")\n",
    "        elif(\"lbw\" in list_of_strings):\n",
    "            dummy.append(\"LBW\")\n",
    "        elif(\"b\" in list_of_strings):\n",
    "            dummy.append(\"Bowled\")\n",
    "        \n",
    "\n",
    "    return batter_out, dummy\n"
   ]
  },
  {
   "cell_type": "code",
   "execution_count": 17,
   "metadata": {},
   "outputs": [
    {
     "name": "stdout",
     "output_type": "stream",
     "text": [
      "\n",
      "RCB_dummy_wicket_kind:  ['Catch', 'Bowled', 'LBW', 'Catch', 'Catch', 'Run Out', 'Bowled']\n",
      "RCB_batter_out:  ['Karthik', 'Lomror', 'Chauhan', 'du', 'Patidar', 'Jacks', 'Kohli']\n",
      "RCB_wicket_kind:  ['', '', '', '', '', '', '', 'Catch', '', '', '', '', '', '', '', '', '', '', '', '', '', '', '', '', '', '', '', '', '', '', '', '', '', '', '', '', '', '', '', '', '', 'Bowled', '', '', '', '', '', '', '', '', '', '', '', '', '', '', '', '', '', '', '', '', '', '', '', '', '', '', '', '', '', '', 'LBW', '', '', 'Catch', '', '', 'Catch', '', '', '', '', '', '', 'Run Out', '', '', '', '', '', '', '', '', '', 'Bowled', '', '', '', '', '', '', '', '', '', '', '', '', '', '', '', '', '', '', '', '', '', '', '', '', '', '', '', '', '', '', '', '', '', '', '', '', '']\n",
      "\n",
      "SRH_dummy_wicket_kind:  ['Catch', 'Catch', 'Catch']\n",
      "SRH_batter_out:  ['Klaasen', 'Head', 'Sharma']\n",
      "SRH_wicket_kind:  ['', '', '', '', '', '', '', '', '', '', '', '', '', '', '', '', '', '', '', '', '', 'Catch', '', '', '', '', '', '', '', '', '', '', '', '', '', '', '', '', '', '', '', '', '', '', '', '', '', '', '', '', '', 'Catch', '', '', '', '', '', '', '', '', '', '', '', '', '', '', '', '', '', '', '', '', '', '', '', '', '', '', '', '', '', 'Catch', '', '', '', '', '', '', '', '', '', '', '', '', '', '', '', '', '', '', '', '', '', '', '', '', '', '', '', '', '', '', '', '', '', '', '', '', '', '', '', '', '', '', '', '', '', '', '', '', '', '']\n"
     ]
    }
   ],
   "source": [
    "# For RCB\n",
    "\n",
    "RCB_batter_out = []\n",
    "RCB_dummy_wicket_kind = []\n",
    "\n",
    "RCB_batter_out, RCB_dummy_wicket_kind = wicketKind(class_name_wicket_kind, RCB_soup)\n",
    "RCB_wicket_kind = []\n",
    "\n",
    "\n",
    "index = 0          \n",
    "for i,j in zip(RCB_batters, RCB_result_list):\n",
    "    if(j!='W'):\n",
    "        RCB_wicket_kind.append(\"\")\n",
    "    else:\n",
    "        RCB_wicket_kind.append(RCB_dummy_wicket_kind[index])\n",
    "        index += 1\n",
    "\n",
    "print()      \n",
    "print(\"RCB_dummy_wicket_kind: \",RCB_dummy_wicket_kind)\n",
    "print(\"RCB_batter_out: \", RCB_batter_out)\n",
    "print(\"RCB_wicket_kind: \", RCB_wicket_kind)\n",
    "\n",
    "# For SRH\n",
    "\n",
    "SRH_batter_out = []\n",
    "SRH_dummy_wicket_kind = []\n",
    "\n",
    "SRH_batter_out, SRH_dummy_wicket_kind = wicketKind(class_name_wicket_kind, SRH_soup)\n",
    "SRH_wicket_kind = []\n",
    "\n",
    "\n",
    "index = 0          \n",
    "for i,j in zip(SRH_batters, SRH_result_list):\n",
    "    if(j!='W'):\n",
    "        SRH_wicket_kind.append(\"\")\n",
    "    else:\n",
    "        SRH_wicket_kind.append(SRH_dummy_wicket_kind[index])\n",
    "        index += 1\n",
    "\n",
    "print()      \n",
    "print(\"SRH_dummy_wicket_kind: \",SRH_dummy_wicket_kind)\n",
    "print(\"SRH_batter_out: \", SRH_batter_out)\n",
    "print(\"SRH_wicket_kind: \", SRH_wicket_kind)"
   ]
  },
  {
   "cell_type": "markdown",
   "metadata": {},
   "source": [
    "### Retriving the name of the team"
   ]
  },
  {
   "cell_type": "code",
   "execution_count": 18,
   "metadata": {},
   "outputs": [],
   "source": [
    "# Function to fill the name of the team\n",
    "def team(text, over_list):\n",
    "    team = []\n",
    "    for i in range(0,len(over_list)):\n",
    "        team.append(text)\n",
    "    return team\n",
    "\n"
   ]
  },
  {
   "cell_type": "code",
   "execution_count": 19,
   "metadata": {},
   "outputs": [
    {
     "name": "stdout",
     "output_type": "stream",
     "text": [
      "RCB Team:  ['Royal Challengers Bengaluru', 'Royal Challengers Bengaluru', 'Royal Challengers Bengaluru', 'Royal Challengers Bengaluru', 'Royal Challengers Bengaluru', 'Royal Challengers Bengaluru', 'Royal Challengers Bengaluru', 'Royal Challengers Bengaluru', 'Royal Challengers Bengaluru', 'Royal Challengers Bengaluru', 'Royal Challengers Bengaluru', 'Royal Challengers Bengaluru', 'Royal Challengers Bengaluru', 'Royal Challengers Bengaluru', 'Royal Challengers Bengaluru', 'Royal Challengers Bengaluru', 'Royal Challengers Bengaluru', 'Royal Challengers Bengaluru', 'Royal Challengers Bengaluru', 'Royal Challengers Bengaluru', 'Royal Challengers Bengaluru', 'Royal Challengers Bengaluru', 'Royal Challengers Bengaluru', 'Royal Challengers Bengaluru', 'Royal Challengers Bengaluru', 'Royal Challengers Bengaluru', 'Royal Challengers Bengaluru', 'Royal Challengers Bengaluru', 'Royal Challengers Bengaluru', 'Royal Challengers Bengaluru', 'Royal Challengers Bengaluru', 'Royal Challengers Bengaluru', 'Royal Challengers Bengaluru', 'Royal Challengers Bengaluru', 'Royal Challengers Bengaluru', 'Royal Challengers Bengaluru', 'Royal Challengers Bengaluru', 'Royal Challengers Bengaluru', 'Royal Challengers Bengaluru', 'Royal Challengers Bengaluru', 'Royal Challengers Bengaluru', 'Royal Challengers Bengaluru', 'Royal Challengers Bengaluru', 'Royal Challengers Bengaluru', 'Royal Challengers Bengaluru', 'Royal Challengers Bengaluru', 'Royal Challengers Bengaluru', 'Royal Challengers Bengaluru', 'Royal Challengers Bengaluru', 'Royal Challengers Bengaluru', 'Royal Challengers Bengaluru', 'Royal Challengers Bengaluru', 'Royal Challengers Bengaluru', 'Royal Challengers Bengaluru', 'Royal Challengers Bengaluru', 'Royal Challengers Bengaluru', 'Royal Challengers Bengaluru', 'Royal Challengers Bengaluru', 'Royal Challengers Bengaluru', 'Royal Challengers Bengaluru', 'Royal Challengers Bengaluru', 'Royal Challengers Bengaluru', 'Royal Challengers Bengaluru', 'Royal Challengers Bengaluru', 'Royal Challengers Bengaluru', 'Royal Challengers Bengaluru', 'Royal Challengers Bengaluru', 'Royal Challengers Bengaluru', 'Royal Challengers Bengaluru', 'Royal Challengers Bengaluru', 'Royal Challengers Bengaluru', 'Royal Challengers Bengaluru', 'Royal Challengers Bengaluru', 'Royal Challengers Bengaluru', 'Royal Challengers Bengaluru', 'Royal Challengers Bengaluru', 'Royal Challengers Bengaluru', 'Royal Challengers Bengaluru', 'Royal Challengers Bengaluru', 'Royal Challengers Bengaluru', 'Royal Challengers Bengaluru', 'Royal Challengers Bengaluru', 'Royal Challengers Bengaluru', 'Royal Challengers Bengaluru', 'Royal Challengers Bengaluru', 'Royal Challengers Bengaluru', 'Royal Challengers Bengaluru', 'Royal Challengers Bengaluru', 'Royal Challengers Bengaluru', 'Royal Challengers Bengaluru', 'Royal Challengers Bengaluru', 'Royal Challengers Bengaluru', 'Royal Challengers Bengaluru', 'Royal Challengers Bengaluru', 'Royal Challengers Bengaluru', 'Royal Challengers Bengaluru', 'Royal Challengers Bengaluru', 'Royal Challengers Bengaluru', 'Royal Challengers Bengaluru', 'Royal Challengers Bengaluru', 'Royal Challengers Bengaluru', 'Royal Challengers Bengaluru', 'Royal Challengers Bengaluru', 'Royal Challengers Bengaluru', 'Royal Challengers Bengaluru', 'Royal Challengers Bengaluru', 'Royal Challengers Bengaluru', 'Royal Challengers Bengaluru', 'Royal Challengers Bengaluru', 'Royal Challengers Bengaluru', 'Royal Challengers Bengaluru', 'Royal Challengers Bengaluru', 'Royal Challengers Bengaluru', 'Royal Challengers Bengaluru', 'Royal Challengers Bengaluru', 'Royal Challengers Bengaluru', 'Royal Challengers Bengaluru', 'Royal Challengers Bengaluru', 'Royal Challengers Bengaluru', 'Royal Challengers Bengaluru', 'Royal Challengers Bengaluru', 'Royal Challengers Bengaluru', 'Royal Challengers Bengaluru', 'Royal Challengers Bengaluru', 'Royal Challengers Bengaluru', 'Royal Challengers Bengaluru', 'Royal Challengers Bengaluru', 'Royal Challengers Bengaluru', 'Royal Challengers Bengaluru', 'Royal Challengers Bengaluru', 'Royal Challengers Bengaluru', 'Royal Challengers Bengaluru', 'Royal Challengers Bengaluru']\n",
      "SRH Team: :  ['Sunrisers Hyderabad', 'Sunrisers Hyderabad', 'Sunrisers Hyderabad', 'Sunrisers Hyderabad', 'Sunrisers Hyderabad', 'Sunrisers Hyderabad', 'Sunrisers Hyderabad', 'Sunrisers Hyderabad', 'Sunrisers Hyderabad', 'Sunrisers Hyderabad', 'Sunrisers Hyderabad', 'Sunrisers Hyderabad', 'Sunrisers Hyderabad', 'Sunrisers Hyderabad', 'Sunrisers Hyderabad', 'Sunrisers Hyderabad', 'Sunrisers Hyderabad', 'Sunrisers Hyderabad', 'Sunrisers Hyderabad', 'Sunrisers Hyderabad', 'Sunrisers Hyderabad', 'Sunrisers Hyderabad', 'Sunrisers Hyderabad', 'Sunrisers Hyderabad', 'Sunrisers Hyderabad', 'Sunrisers Hyderabad', 'Sunrisers Hyderabad', 'Sunrisers Hyderabad', 'Sunrisers Hyderabad', 'Sunrisers Hyderabad', 'Sunrisers Hyderabad', 'Sunrisers Hyderabad', 'Sunrisers Hyderabad', 'Sunrisers Hyderabad', 'Sunrisers Hyderabad', 'Sunrisers Hyderabad', 'Sunrisers Hyderabad', 'Sunrisers Hyderabad', 'Sunrisers Hyderabad', 'Sunrisers Hyderabad', 'Sunrisers Hyderabad', 'Sunrisers Hyderabad', 'Sunrisers Hyderabad', 'Sunrisers Hyderabad', 'Sunrisers Hyderabad', 'Sunrisers Hyderabad', 'Sunrisers Hyderabad', 'Sunrisers Hyderabad', 'Sunrisers Hyderabad', 'Sunrisers Hyderabad', 'Sunrisers Hyderabad', 'Sunrisers Hyderabad', 'Sunrisers Hyderabad', 'Sunrisers Hyderabad', 'Sunrisers Hyderabad', 'Sunrisers Hyderabad', 'Sunrisers Hyderabad', 'Sunrisers Hyderabad', 'Sunrisers Hyderabad', 'Sunrisers Hyderabad', 'Sunrisers Hyderabad', 'Sunrisers Hyderabad', 'Sunrisers Hyderabad', 'Sunrisers Hyderabad', 'Sunrisers Hyderabad', 'Sunrisers Hyderabad', 'Sunrisers Hyderabad', 'Sunrisers Hyderabad', 'Sunrisers Hyderabad', 'Sunrisers Hyderabad', 'Sunrisers Hyderabad', 'Sunrisers Hyderabad', 'Sunrisers Hyderabad', 'Sunrisers Hyderabad', 'Sunrisers Hyderabad', 'Sunrisers Hyderabad', 'Sunrisers Hyderabad', 'Sunrisers Hyderabad', 'Sunrisers Hyderabad', 'Sunrisers Hyderabad', 'Sunrisers Hyderabad', 'Sunrisers Hyderabad', 'Sunrisers Hyderabad', 'Sunrisers Hyderabad', 'Sunrisers Hyderabad', 'Sunrisers Hyderabad', 'Sunrisers Hyderabad', 'Sunrisers Hyderabad', 'Sunrisers Hyderabad', 'Sunrisers Hyderabad', 'Sunrisers Hyderabad', 'Sunrisers Hyderabad', 'Sunrisers Hyderabad', 'Sunrisers Hyderabad', 'Sunrisers Hyderabad', 'Sunrisers Hyderabad', 'Sunrisers Hyderabad', 'Sunrisers Hyderabad', 'Sunrisers Hyderabad', 'Sunrisers Hyderabad', 'Sunrisers Hyderabad', 'Sunrisers Hyderabad', 'Sunrisers Hyderabad', 'Sunrisers Hyderabad', 'Sunrisers Hyderabad', 'Sunrisers Hyderabad', 'Sunrisers Hyderabad', 'Sunrisers Hyderabad', 'Sunrisers Hyderabad', 'Sunrisers Hyderabad', 'Sunrisers Hyderabad', 'Sunrisers Hyderabad', 'Sunrisers Hyderabad', 'Sunrisers Hyderabad', 'Sunrisers Hyderabad', 'Sunrisers Hyderabad', 'Sunrisers Hyderabad', 'Sunrisers Hyderabad', 'Sunrisers Hyderabad', 'Sunrisers Hyderabad', 'Sunrisers Hyderabad', 'Sunrisers Hyderabad', 'Sunrisers Hyderabad', 'Sunrisers Hyderabad', 'Sunrisers Hyderabad', 'Sunrisers Hyderabad', 'Sunrisers Hyderabad', 'Sunrisers Hyderabad', 'Sunrisers Hyderabad', 'Sunrisers Hyderabad', 'Sunrisers Hyderabad', 'Sunrisers Hyderabad']\n"
     ]
    }
   ],
   "source": [
    "# Calling the above function\n",
    "# For RCB\n",
    "RCB_team = team(\"Royal Challengers Bengaluru\", RCB_overs_list)\n",
    "print(\"RCB Team: \", RCB_team)\n",
    "\n",
    "# For SRH\n",
    "SRH_team = team(\"Sunrisers Hyderabad\", SRH_overs_list)\n",
    "print(\"SRH Team: : \", SRH_team)"
   ]
  },
  {
   "cell_type": "markdown",
   "metadata": {},
   "source": [
    "### Retriving which batter is out at each wicket"
   ]
  },
  {
   "cell_type": "code",
   "execution_count": 20,
   "metadata": {},
   "outputs": [],
   "source": [
    "# Function to make sure the order of the batters\n",
    "def remove_duplicates(input_list):\n",
    "    seen = set()\n",
    "    result = []\n",
    "    for item in input_list:\n",
    "        if item not in seen:\n",
    "            result.append(item)\n",
    "            seen.add(item)\n",
    "    return result\n"
   ]
  },
  {
   "cell_type": "code",
   "execution_count": 21,
   "metadata": {},
   "outputs": [],
   "source": [
    "# Function to retrive which batter is out at each wicket\n",
    "def WicketOfBatter(result_list, batters, batter_order):\n",
    "    batter_wicket = []\n",
    "    count = 0\n",
    "    for i,j in zip(result_list, batters):\n",
    "        if(i != 'W'):\n",
    "            batter_wicket.append(\"\")\n",
    "        else:\n",
    "            batter_wicket.append(batter_order[count+2])\n",
    "            count += 1\n",
    "    return batter_wicket\n"
   ]
  },
  {
   "cell_type": "code",
   "execution_count": 22,
   "metadata": {},
   "outputs": [
    {
     "name": "stdout",
     "output_type": "stream",
     "text": [
      "RCB_batter_order:  ['Rawat', 'Vyshak', 'Karthik', 'Lomror', 'Chauhan', 'duPlessis', 'Patidar', 'Jacks', 'Kohli']\n",
      "Wicket of the Batter:  ['', '', '', '', '', '', '', 'Karthik', '', '', '', '', '', '', '', '', '', '', '', '', '', '', '', '', '', '', '', '', '', '', '', '', '', '', '', '', '', '', '', '', '', 'Lomror', '', '', '', '', '', '', '', '', '', '', '', '', '', '', '', '', '', '', '', '', '', '', '', '', '', '', '', '', '', '', 'Chauhan', '', '', 'duPlessis', '', '', 'Patidar', '', '', '', '', '', '', 'Jacks', '', '', '', '', '', '', '', '', '', 'Kohli', '', '', '', '', '', '', '', '', '', '', '', '', '', '', '', '', '', '', '', '', '', '', '', '', '', '', '', '', '', '', '', '', '', '', '', '', '']\n",
      "SRH_batter_order:  ['AbdulSamad', 'Markram', 'Klaasen', 'Head', 'Abhishek']\n",
      "Wicket of the Batter:  ['', '', '', '', '', '', '', '', '', '', '', '', '', '', '', '', '', '', '', '', '', 'Klaasen', '', '', '', '', '', '', '', '', '', '', '', '', '', '', '', '', '', '', '', '', '', '', '', '', '', '', '', '', '', 'Head', '', '', '', '', '', '', '', '', '', '', '', '', '', '', '', '', '', '', '', '', '', '', '', '', '', '', '', '', '', 'Abhishek', '', '', '', '', '', '', '', '', '', '', '', '', '', '', '', '', '', '', '', '', '', '', '', '', '', '', '', '', '', '', '', '', '', '', '', '', '', '', '', '', '', '', '', '', '', '', '', '', '', '']\n"
     ]
    }
   ],
   "source": [
    "# For RCB\n",
    "RCB_wicket_order = remove_duplicates(RCB_batters)\n",
    "print(\"RCB_batter_order: \", RCB_wicket_order)\n",
    "\n",
    "RCB_batter_wicket = WicketOfBatter(RCB_result_list, RCB_batters, RCB_wicket_order)\n",
    "print(\"Wicket of the Batter: \", RCB_batter_wicket)\n",
    "\n",
    "# For SRH\n",
    "SRH_wicket_order = remove_duplicates(SRH_batters)\n",
    "print(\"SRH_batter_order: \", SRH_wicket_order)\n",
    "\n",
    "SRH_batter_wicket = WicketOfBatter(SRH_result_list, SRH_batters, SRH_wicket_order)\n",
    "print(\"Wicket of the Batter: \", SRH_batter_wicket)\n",
    "\n",
    "\n",
    "\n",
    "# print(len(RCB_batter_wicket))"
   ]
  },
  {
   "cell_type": "markdown",
   "metadata": {},
   "source": [
    "### Reversing the order of the columns so that it will start from 0"
   ]
  },
  {
   "cell_type": "code",
   "execution_count": 23,
   "metadata": {},
   "outputs": [],
   "source": [
    "# For RCB\n",
    "RCB_overs_list = RCB_overs_list[::-1]\n",
    "converted_RCB_overs_list = converted_RCB_overs_list[::-1] # type: ignore\n",
    "RCB_runs = RCB_runs[::-1] # type: ignore\n",
    "RCB_batters = RCB_batters[::-1] # type: ignore\n",
    "RCB_bowlers = RCB_bowlers[::-1] # type: ignore\n",
    "RCB_wicket_kind = RCB_wicket_kind[::-1] # type: ignore\n",
    "RCB_batter_wicket = RCB_batter_wicket[::-1] # type: ignore\n",
    "RCB_extra_runs = RCB_extra_runs[::-1] # type: ignore\n",
    "\n",
    "# For SRH\n",
    "SRH_overs_list = SRH_overs_list[::-1]\n",
    "converted_SRH_overs_list = converted_SRH_overs_list[::-1] # type: ignore\n",
    "SRH_runs = SRH_runs[::-1] # type: ignore\n",
    "SRH_batters = SRH_batters[::-1] # type: ignore\n",
    "SRH_bowlers = SRH_bowlers[::-1] # type: ignore\n",
    "SRH_wicket_kind = SRH_wicket_kind[::-1] # type: ignore\n",
    "SRH_batter_wicket = SRH_batter_wicket[::-1] # type: ignore\n",
    "SRH_extra_runs = SRH_extra_runs[::-1] # type: ignore"
   ]
  },
  {
   "cell_type": "code",
   "execution_count": null,
   "metadata": {},
   "outputs": [],
   "source": []
  },
  {
   "cell_type": "code",
   "execution_count": 24,
   "metadata": {},
   "outputs": [],
   "source": [
    "team = RCB_team + SRH_team\n",
    "over_details = RCB_overs_list + SRH_overs_list\n",
    "overs_list = converted_RCB_overs_list + converted_SRH_overs_list\n",
    "batters = RCB_batters + SRH_batters\n",
    "bowlers = RCB_bowlers + SRH_bowlers\n",
    "runs = RCB_runs + SRH_runs\n",
    "batter_wicket = RCB_batter_wicket + SRH_batter_wicket\n",
    "wicket_kind = RCB_wicket_kind + SRH_wicket_kind\n",
    "extra_runs = RCB_extra_runs + SRH_extra_runs\n",
    "\n",
    "# print(len(team))"
   ]
  },
  {
   "cell_type": "markdown",
   "metadata": {},
   "source": [
    "### Creating the DataFrame with the data i have"
   ]
  },
  {
   "cell_type": "code",
   "execution_count": 25,
   "metadata": {},
   "outputs": [
    {
     "data": {
      "text/html": [
       "<div>\n",
       "<style scoped>\n",
       "    .dataframe tbody tr th:only-of-type {\n",
       "        vertical-align: middle;\n",
       "    }\n",
       "\n",
       "    .dataframe tbody tr th {\n",
       "        vertical-align: top;\n",
       "    }\n",
       "\n",
       "    .dataframe thead th {\n",
       "        text-align: right;\n",
       "    }\n",
       "</style>\n",
       "<table border=\"1\" class=\"dataframe\">\n",
       "  <thead>\n",
       "    <tr style=\"text-align: right;\">\n",
       "      <th></th>\n",
       "      <th>Team</th>\n",
       "      <th>Over Details</th>\n",
       "      <th>Overs</th>\n",
       "      <th>Batter</th>\n",
       "      <th>Bowler</th>\n",
       "      <th>Runs</th>\n",
       "      <th>Extra Runs</th>\n",
       "      <th>Batter Out</th>\n",
       "      <th>Wicket Kind</th>\n",
       "    </tr>\n",
       "  </thead>\n",
       "  <tbody>\n",
       "    <tr>\n",
       "      <th>133</th>\n",
       "      <td>Sunrisers Hyderabad</td>\n",
       "      <td>0.1</td>\n",
       "      <td>0</td>\n",
       "      <td>Abhishek</td>\n",
       "      <td>Jacks</td>\n",
       "      <td>0</td>\n",
       "      <td></td>\n",
       "      <td></td>\n",
       "      <td></td>\n",
       "    </tr>\n",
       "    <tr>\n",
       "      <th>134</th>\n",
       "      <td>Sunrisers Hyderabad</td>\n",
       "      <td>0.2</td>\n",
       "      <td>0</td>\n",
       "      <td>Abhishek</td>\n",
       "      <td>Jacks</td>\n",
       "      <td>0</td>\n",
       "      <td></td>\n",
       "      <td></td>\n",
       "      <td></td>\n",
       "    </tr>\n",
       "    <tr>\n",
       "      <th>135</th>\n",
       "      <td>Sunrisers Hyderabad</td>\n",
       "      <td>0.3</td>\n",
       "      <td>0</td>\n",
       "      <td>Abhishek</td>\n",
       "      <td>Jacks</td>\n",
       "      <td>2</td>\n",
       "      <td></td>\n",
       "      <td></td>\n",
       "      <td></td>\n",
       "    </tr>\n",
       "    <tr>\n",
       "      <th>136</th>\n",
       "      <td>Sunrisers Hyderabad</td>\n",
       "      <td>0.4</td>\n",
       "      <td>0</td>\n",
       "      <td>Abhishek</td>\n",
       "      <td>Jacks</td>\n",
       "      <td>4</td>\n",
       "      <td></td>\n",
       "      <td></td>\n",
       "      <td></td>\n",
       "    </tr>\n",
       "    <tr>\n",
       "      <th>137</th>\n",
       "      <td>Sunrisers Hyderabad</td>\n",
       "      <td>0.5</td>\n",
       "      <td>0</td>\n",
       "      <td>Abhishek</td>\n",
       "      <td>Jacks</td>\n",
       "      <td>1</td>\n",
       "      <td></td>\n",
       "      <td></td>\n",
       "      <td></td>\n",
       "    </tr>\n",
       "    <tr>\n",
       "      <th>...</th>\n",
       "      <td>...</td>\n",
       "      <td>...</td>\n",
       "      <td>...</td>\n",
       "      <td>...</td>\n",
       "      <td>...</td>\n",
       "      <td>...</td>\n",
       "      <td>...</td>\n",
       "      <td>...</td>\n",
       "      <td>...</td>\n",
       "    </tr>\n",
       "    <tr>\n",
       "      <th>260</th>\n",
       "      <td>Sunrisers Hyderabad</td>\n",
       "      <td>19.3</td>\n",
       "      <td>19</td>\n",
       "      <td>Markram</td>\n",
       "      <td>Vyshak</td>\n",
       "      <td>1</td>\n",
       "      <td></td>\n",
       "      <td></td>\n",
       "      <td></td>\n",
       "    </tr>\n",
       "    <tr>\n",
       "      <th>261</th>\n",
       "      <td>Sunrisers Hyderabad</td>\n",
       "      <td>19.4</td>\n",
       "      <td>19</td>\n",
       "      <td>AbdulSamad</td>\n",
       "      <td>Vyshak</td>\n",
       "      <td>0</td>\n",
       "      <td></td>\n",
       "      <td></td>\n",
       "      <td></td>\n",
       "    </tr>\n",
       "    <tr>\n",
       "      <th>262</th>\n",
       "      <td>Sunrisers Hyderabad</td>\n",
       "      <td>19.5</td>\n",
       "      <td>19</td>\n",
       "      <td>AbdulSamad</td>\n",
       "      <td>Vyshak</td>\n",
       "      <td>6</td>\n",
       "      <td></td>\n",
       "      <td></td>\n",
       "      <td></td>\n",
       "    </tr>\n",
       "    <tr>\n",
       "      <th>263</th>\n",
       "      <td>Sunrisers Hyderabad</td>\n",
       "      <td>19.6</td>\n",
       "      <td>19</td>\n",
       "      <td>AbdulSamad</td>\n",
       "      <td>Vyshak</td>\n",
       "      <td>0</td>\n",
       "      <td>1</td>\n",
       "      <td></td>\n",
       "      <td></td>\n",
       "    </tr>\n",
       "    <tr>\n",
       "      <th>264</th>\n",
       "      <td>Sunrisers Hyderabad</td>\n",
       "      <td>19.6</td>\n",
       "      <td>19</td>\n",
       "      <td>AbdulSamad</td>\n",
       "      <td>Vyshak</td>\n",
       "      <td>2</td>\n",
       "      <td></td>\n",
       "      <td></td>\n",
       "      <td></td>\n",
       "    </tr>\n",
       "  </tbody>\n",
       "</table>\n",
       "<p>132 rows × 9 columns</p>\n",
       "</div>"
      ],
      "text/plain": [
       "                    Team Over Details  Overs      Batter  Bowler Runs  \\\n",
       "133  Sunrisers Hyderabad          0.1      0    Abhishek   Jacks    0   \n",
       "134  Sunrisers Hyderabad          0.2      0    Abhishek   Jacks    0   \n",
       "135  Sunrisers Hyderabad          0.3      0    Abhishek   Jacks    2   \n",
       "136  Sunrisers Hyderabad          0.4      0    Abhishek   Jacks    4   \n",
       "137  Sunrisers Hyderabad          0.5      0    Abhishek   Jacks    1   \n",
       "..                   ...          ...    ...         ...     ...  ...   \n",
       "260  Sunrisers Hyderabad         19.3     19     Markram  Vyshak    1   \n",
       "261  Sunrisers Hyderabad         19.4     19  AbdulSamad  Vyshak    0   \n",
       "262  Sunrisers Hyderabad         19.5     19  AbdulSamad  Vyshak    6   \n",
       "263  Sunrisers Hyderabad         19.6     19  AbdulSamad  Vyshak    0   \n",
       "264  Sunrisers Hyderabad         19.6     19  AbdulSamad  Vyshak    2   \n",
       "\n",
       "    Extra Runs Batter Out Wicket Kind  \n",
       "133                                    \n",
       "134                                    \n",
       "135                                    \n",
       "136                                    \n",
       "137                                    \n",
       "..         ...        ...         ...  \n",
       "260                                    \n",
       "261                                    \n",
       "262                                    \n",
       "263          1                         \n",
       "264                                    \n",
       "\n",
       "[132 rows x 9 columns]"
      ]
     },
     "execution_count": 25,
     "metadata": {},
     "output_type": "execute_result"
    }
   ],
   "source": [
    "data = {\n",
    "    'Team' : team, \n",
    "    'Over Details' : over_details,\n",
    "    'Overs' : overs_list, # type: ignore\n",
    "    'Batter' : batters, # type: ignore\n",
    "    'Bowler' : bowlers, # type: ignore\n",
    "    'Runs' : runs, # type: ignore\n",
    "    'Extra Runs' : extra_runs, # type: ignore\n",
    "    'Batter Out' : batter_wicket, # type: ignore\n",
    "    \"Wicket Kind\" : wicket_kind # type: ignore\n",
    "}\n",
    "\n",
    "\n",
    "\n",
    "df = pd.DataFrame(data)\n",
    "\n",
    "df.tail(132)"
   ]
  },
  {
   "cell_type": "code",
   "execution_count": 26,
   "metadata": {},
   "outputs": [],
   "source": [
    "headers = df.columns\n"
   ]
  },
  {
   "cell_type": "code",
   "execution_count": 27,
   "metadata": {},
   "outputs": [
    {
     "name": "stderr",
     "output_type": "stream",
     "text": [
      "C:\\Users\\odula\\AppData\\Local\\Temp\\ipykernel_17260\\985579921.py:1: FutureWarning: Downcasting behavior in `replace` is deprecated and will be removed in a future version. To retain the old behavior, explicitly call `result.infer_objects(copy=False)`. To opt-in to the future behavior, set `pd.set_option('future.no_silent_downcasting', True)`\n",
      "  df['Total Runs'] = df['Runs'].astype(int) + df['Extra Runs'].replace(\"\", 0).astype(int)\n"
     ]
    }
   ],
   "source": [
    "df['Total Runs'] = df['Runs'].astype(int) + df['Extra Runs'].replace(\"\", 0).astype(int)\n",
    "cols = ['Team', 'Overs', 'Batter', 'Bowler', 'Runs', 'Extra Runs', 'Total Runs', 'Batter Out', 'Wicket Kind']\n",
    "df = df[cols]"
   ]
  },
  {
   "cell_type": "code",
   "execution_count": 28,
   "metadata": {},
   "outputs": [
    {
     "name": "stdout",
     "output_type": "stream",
     "text": [
      "Team           object\n",
      "Overs           int64\n",
      "Batter         object\n",
      "Bowler         object\n",
      "Runs           object\n",
      "Extra Runs     object\n",
      "Total Runs      int32\n",
      "Batter Out     object\n",
      "Wicket Kind    object\n",
      "dtype: object\n"
     ]
    }
   ],
   "source": [
    "print(df.dtypes)"
   ]
  },
  {
   "cell_type": "code",
   "execution_count": 29,
   "metadata": {},
   "outputs": [
    {
     "data": {
      "text/html": [
       "<div>\n",
       "<style scoped>\n",
       "    .dataframe tbody tr th:only-of-type {\n",
       "        vertical-align: middle;\n",
       "    }\n",
       "\n",
       "    .dataframe tbody tr th {\n",
       "        vertical-align: top;\n",
       "    }\n",
       "\n",
       "    .dataframe thead th {\n",
       "        text-align: right;\n",
       "    }\n",
       "</style>\n",
       "<table border=\"1\" class=\"dataframe\">\n",
       "  <thead>\n",
       "    <tr style=\"text-align: right;\">\n",
       "      <th></th>\n",
       "      <th>Team</th>\n",
       "      <th>Overs</th>\n",
       "      <th>Batter</th>\n",
       "      <th>Bowler</th>\n",
       "      <th>Runs</th>\n",
       "      <th>Extra Runs</th>\n",
       "      <th>Total Runs</th>\n",
       "      <th>Batter Out</th>\n",
       "      <th>Wicket Kind</th>\n",
       "    </tr>\n",
       "  </thead>\n",
       "  <tbody>\n",
       "    <tr>\n",
       "      <th>0</th>\n",
       "      <td>Royal Challengers Bengaluru</td>\n",
       "      <td>0</td>\n",
       "      <td>Kohli</td>\n",
       "      <td>Abhishek</td>\n",
       "      <td>1</td>\n",
       "      <td></td>\n",
       "      <td>1</td>\n",
       "      <td></td>\n",
       "      <td></td>\n",
       "    </tr>\n",
       "    <tr>\n",
       "      <th>1</th>\n",
       "      <td>Royal Challengers Bengaluru</td>\n",
       "      <td>0</td>\n",
       "      <td>duPlessis</td>\n",
       "      <td>Abhishek</td>\n",
       "      <td>4</td>\n",
       "      <td></td>\n",
       "      <td>4</td>\n",
       "      <td></td>\n",
       "      <td></td>\n",
       "    </tr>\n",
       "    <tr>\n",
       "      <th>2</th>\n",
       "      <td>Royal Challengers Bengaluru</td>\n",
       "      <td>0</td>\n",
       "      <td>duPlessis</td>\n",
       "      <td>Abhishek</td>\n",
       "      <td>0</td>\n",
       "      <td></td>\n",
       "      <td>0</td>\n",
       "      <td></td>\n",
       "      <td></td>\n",
       "    </tr>\n",
       "    <tr>\n",
       "      <th>3</th>\n",
       "      <td>Royal Challengers Bengaluru</td>\n",
       "      <td>0</td>\n",
       "      <td>duPlessis</td>\n",
       "      <td>Abhishek</td>\n",
       "      <td>1</td>\n",
       "      <td></td>\n",
       "      <td>1</td>\n",
       "      <td></td>\n",
       "      <td></td>\n",
       "    </tr>\n",
       "    <tr>\n",
       "      <th>4</th>\n",
       "      <td>Royal Challengers Bengaluru</td>\n",
       "      <td>0</td>\n",
       "      <td>Kohli</td>\n",
       "      <td>Abhishek</td>\n",
       "      <td>0</td>\n",
       "      <td></td>\n",
       "      <td>0</td>\n",
       "      <td></td>\n",
       "      <td></td>\n",
       "    </tr>\n",
       "    <tr>\n",
       "      <th>5</th>\n",
       "      <td>Royal Challengers Bengaluru</td>\n",
       "      <td>0</td>\n",
       "      <td>Kohli</td>\n",
       "      <td>Abhishek</td>\n",
       "      <td>4</td>\n",
       "      <td></td>\n",
       "      <td>4</td>\n",
       "      <td></td>\n",
       "      <td></td>\n",
       "    </tr>\n",
       "    <tr>\n",
       "      <th>6</th>\n",
       "      <td>Royal Challengers Bengaluru</td>\n",
       "      <td>1</td>\n",
       "      <td>duPlessis</td>\n",
       "      <td>Bhuvneshwar</td>\n",
       "      <td>1</td>\n",
       "      <td></td>\n",
       "      <td>1</td>\n",
       "      <td></td>\n",
       "      <td></td>\n",
       "    </tr>\n",
       "    <tr>\n",
       "      <th>7</th>\n",
       "      <td>Royal Challengers Bengaluru</td>\n",
       "      <td>1</td>\n",
       "      <td>Kohli</td>\n",
       "      <td>Bhuvneshwar</td>\n",
       "      <td>0</td>\n",
       "      <td></td>\n",
       "      <td>0</td>\n",
       "      <td></td>\n",
       "      <td></td>\n",
       "    </tr>\n",
       "    <tr>\n",
       "      <th>8</th>\n",
       "      <td>Royal Challengers Bengaluru</td>\n",
       "      <td>1</td>\n",
       "      <td>Kohli</td>\n",
       "      <td>Bhuvneshwar</td>\n",
       "      <td>0</td>\n",
       "      <td></td>\n",
       "      <td>0</td>\n",
       "      <td></td>\n",
       "      <td></td>\n",
       "    </tr>\n",
       "    <tr>\n",
       "      <th>9</th>\n",
       "      <td>Royal Challengers Bengaluru</td>\n",
       "      <td>1</td>\n",
       "      <td>Kohli</td>\n",
       "      <td>Bhuvneshwar</td>\n",
       "      <td>4</td>\n",
       "      <td></td>\n",
       "      <td>4</td>\n",
       "      <td></td>\n",
       "      <td></td>\n",
       "    </tr>\n",
       "  </tbody>\n",
       "</table>\n",
       "</div>"
      ],
      "text/plain": [
       "                          Team  Overs     Batter       Bowler Runs Extra Runs  \\\n",
       "0  Royal Challengers Bengaluru      0      Kohli     Abhishek    1              \n",
       "1  Royal Challengers Bengaluru      0  duPlessis     Abhishek    4              \n",
       "2  Royal Challengers Bengaluru      0  duPlessis     Abhishek    0              \n",
       "3  Royal Challengers Bengaluru      0  duPlessis     Abhishek    1              \n",
       "4  Royal Challengers Bengaluru      0      Kohli     Abhishek    0              \n",
       "5  Royal Challengers Bengaluru      0      Kohli     Abhishek    4              \n",
       "6  Royal Challengers Bengaluru      1  duPlessis  Bhuvneshwar    1              \n",
       "7  Royal Challengers Bengaluru      1      Kohli  Bhuvneshwar    0              \n",
       "8  Royal Challengers Bengaluru      1      Kohli  Bhuvneshwar    0              \n",
       "9  Royal Challengers Bengaluru      1      Kohli  Bhuvneshwar    4              \n",
       "\n",
       "   Total Runs Batter Out Wicket Kind  \n",
       "0           1                         \n",
       "1           4                         \n",
       "2           0                         \n",
       "3           1                         \n",
       "4           0                         \n",
       "5           4                         \n",
       "6           1                         \n",
       "7           0                         \n",
       "8           0                         \n",
       "9           4                         "
      ]
     },
     "execution_count": 29,
     "metadata": {},
     "output_type": "execute_result"
    }
   ],
   "source": [
    "df.head(10)"
   ]
  },
  {
   "cell_type": "code",
   "execution_count": 30,
   "metadata": {},
   "outputs": [
    {
     "name": "stderr",
     "output_type": "stream",
     "text": [
      "C:\\Users\\odula\\AppData\\Local\\Temp\\ipykernel_17260\\2271395264.py:1: FutureWarning: Downcasting behavior in `replace` is deprecated and will be removed in a future version. To retain the old behavior, explicitly call `result.infer_objects(copy=False)`. To opt-in to the future behavior, set `pd.set_option('future.no_silent_downcasting', True)`\n",
      "  df.replace('', np.nan, inplace=True)\n"
     ]
    }
   ],
   "source": [
    "df.replace('', np.nan, inplace=True)"
   ]
  },
  {
   "cell_type": "code",
   "execution_count": 32,
   "metadata": {},
   "outputs": [],
   "source": [
    "df.to_csv('doubt.csv', index=False)\n",
    "\n"
   ]
  },
  {
   "cell_type": "code",
   "execution_count": null,
   "metadata": {},
   "outputs": [],
   "source": [
    "df"
   ]
  },
  {
   "cell_type": "code",
   "execution_count": null,
   "metadata": {},
   "outputs": [],
   "source": []
  }
 ],
 "metadata": {
  "kernelspec": {
   "display_name": "Python 3",
   "language": "python",
   "name": "python3"
  },
  "language_info": {
   "codemirror_mode": {
    "name": "ipython",
    "version": 3
   },
   "file_extension": ".py",
   "mimetype": "text/x-python",
   "name": "python",
   "nbconvert_exporter": "python",
   "pygments_lexer": "ipython3",
   "version": "3.12.2"
  }
 },
 "nbformat": 4,
 "nbformat_minor": 2
}
